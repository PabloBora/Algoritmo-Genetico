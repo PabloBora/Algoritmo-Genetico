{
  "nbformat": 4,
  "nbformat_minor": 0,
  "metadata": {
    "colab": {
      "provenance": [],
      "authorship_tag": "ABX9TyNL3PTsjHCyWPxehO3fkcjX",
      "include_colab_link": true
    },
    "kernelspec": {
      "name": "python3",
      "display_name": "Python 3"
    },
    "language_info": {
      "name": "python"
    }
  },
  "cells": [
    {
      "cell_type": "markdown",
      "metadata": {
        "id": "view-in-github",
        "colab_type": "text"
      },
      "source": [
        "<a href=\"https://colab.research.google.com/github/PabloBora/Algoritmo-Genetico/blob/main/Algoritmo_genetico.ipynb\" target=\"_parent\"><img src=\"https://colab.research.google.com/assets/colab-badge.svg\" alt=\"Open In Colab\"/></a>"
      ]
    },
    {
      "cell_type": "markdown",
      "source": [
        "1.- Requerimiento de definición de entidad: El sistema deberá permitir la definición de entidades o creaturas compuestas por un número de genes especificado por el usuario, cada uno de los cuales se representará mediante un bit.\n",
        "\n",
        "2.- Requerimiento de gestión de población: El sistema deberá permitir la gestión de una población de individuos, en la que el número de creaturas estará especificado por el usuario.\n",
        "\n",
        "3.- Requerimiento de generación de población inicial: El sistema deberá ser capaz de generar de manera aleatoria una población inicial de creaturas.\n",
        "\n",
        "4.-Requerimiento de evaluación de fitness: El sistema deberá ser capaz de evaluar el fitness de cada individuo y de la población completa, utilizando la función objetivo f(x) = x^2, donde x es la suma de los valores de los genes en decimal.\n",
        "\n",
        "5.-Requerimiento de implementación de procesos de evolución natural: El sistema deberá ser capaz de implementar los procesos de selección, cruce, mutación y reemplazo para la evolución de la población de creaturas."
      ],
      "metadata": {
        "id": "O2BxP_OKDjSa"
      }
    },
    {
      "cell_type": "code",
      "execution_count": 10,
      "metadata": {
        "colab": {
          "base_uri": "https://localhost:8080/"
        },
        "id": "oS2dGFHikT00",
        "outputId": "f29d60b0-e643-4bfc-bd69-eb1d0a63867d"
      },
      "outputs": [
        {
          "output_type": "stream",
          "name": "stdout",
          "text": [
            "esta generación tiene un total de  4669  y el esperado es de  5110\n",
            "[[0, 1, 1, 0, 0, 1, 1, 1, 1], [0, 1, 1, 0, 0, 1, 1, 1, 1], [0, 1, 0, 0, 1, 1, 0, 1, 1], [1, 0, 0, 1, 0, 1, 0, 1, 1], [1, 0, 1, 1, 1, 1, 0, 1, 1], [0, 1, 1, 0, 1, 1, 0, 1, 1], [1, 0, 1, 1, 0, 1, 1, 1, 1], [0, 1, 0, 0, 1, 1, 0, 1, 1], [1, 0, 1, 1, 1, 1, 0, 1, 1], [1, 0, 0, 0, 0, 1, 1, 0, 0], [0, 1, 1, 0, 0, 1, 1, 1, 1]]\n",
            "esta generación tiene un total de  5110  y el esperado es de  5110\n",
            "[[1, 0, 1, 1, 0, 1, 1, 1, 1], [1, 0, 1, 1, 0, 1, 0, 1, 1], [0, 1, 1, 0, 1, 1, 1, 1, 1], [1, 0, 1, 1, 0, 1, 1, 1, 1], [1, 0, 1, 1, 0, 1, 1, 1, 1], [0, 1, 1, 0, 0, 1, 1, 1, 1], [0, 1, 1, 0, 1, 1, 1, 1, 1], [1, 1, 1, 0, 0, 1, 1, 1, 1], [0, 1, 1, 0, 0, 1, 1, 1, 1], [0, 1, 1, 0, 0, 1, 1, 1, 1], [0, 1, 1, 0, 0, 1, 1, 1, 1]]\n",
            "esta generación tiene un total de  5110  y el esperado es de  5110\n",
            "[[0, 1, 1, 0, 1, 1, 1, 1, 1], [0, 1, 1, 0, 0, 1, 1, 1, 1], [1, 1, 1, 0, 0, 1, 1, 1, 1], [1, 0, 1, 1, 0, 1, 1, 1, 1], [1, 0, 1, 1, 0, 1, 1, 1, 1], [0, 1, 1, 0, 1, 1, 1, 1, 1], [0, 1, 1, 0, 1, 1, 1, 1, 1], [1, 0, 1, 1, 0, 1, 1, 1, 1], [0, 1, 1, 0, 1, 1, 1, 1, 1], [1, 0, 1, 0, 1, 1, 1, 1, 1], [0, 1, 1, 1, 0, 1, 1, 1, 1]]\n",
            "esta generación tiene un total de  5110  y el esperado es de  5110\n",
            "[[0, 1, 1, 0, 1, 1, 1, 1, 1], [0, 1, 1, 0, 1, 1, 1, 1, 1], [0, 1, 1, 0, 1, 1, 1, 1, 1], [1, 0, 1, 1, 0, 1, 1, 1, 1], [1, 0, 1, 1, 1, 1, 1, 1, 1], [0, 1, 1, 0, 1, 1, 1, 1, 1], [1, 0, 1, 0, 1, 1, 1, 1, 1], [1, 0, 1, 1, 0, 1, 1, 1, 1], [0, 1, 1, 0, 1, 1, 1, 1, 1], [1, 0, 1, 0, 1, 1, 1, 1, 1], [0, 1, 1, 0, 1, 1, 1, 1, 1]]\n",
            "esta generación tiene un total de  5110  y el esperado es de  5110\n",
            "[[1, 0, 1, 1, 1, 1, 1, 1, 1], [0, 1, 1, 0, 1, 1, 1, 1, 1], [0, 1, 1, 0, 1, 1, 1, 1, 1], [0, 1, 1, 0, 1, 1, 1, 1, 1], [1, 0, 1, 1, 0, 1, 1, 1, 1], [0, 1, 1, 0, 1, 1, 1, 1, 1], [0, 1, 1, 0, 1, 1, 1, 1, 1], [1, 0, 1, 1, 1, 1, 1, 1, 1], [1, 0, 1, 1, 1, 1, 1, 1, 1], [0, 1, 1, 0, 1, 1, 1, 1, 1], [0, 1, 1, 0, 1, 1, 1, 1, 1]]\n",
            "esta generación tiene un total de  5110  y el esperado es de  5110\n",
            "[[1, 0, 1, 1, 1, 1, 1, 1, 1], [1, 0, 1, 1, 1, 1, 1, 1, 1], [1, 0, 1, 1, 1, 1, 1, 1, 1], [0, 1, 1, 1, 1, 1, 1, 1, 1], [1, 0, 1, 0, 1, 1, 1, 1, 1], [0, 1, 1, 0, 1, 1, 1, 1, 1], [1, 0, 1, 1, 1, 1, 1, 1, 1], [0, 1, 1, 0, 1, 1, 1, 1, 1], [1, 0, 0, 1, 1, 1, 1, 1, 1], [0, 0, 1, 1, 1, 1, 1, 1, 1], [1, 1, 1, 0, 1, 1, 1, 1, 1]]\n",
            "esta generación tiene un total de  5087  y el esperado es de  5110\n",
            "[[0, 1, 1, 1, 1, 1, 1, 1, 1], [1, 0, 1, 1, 1, 1, 1, 1, 1], [1, 0, 1, 1, 1, 1, 1, 1, 1], [0, 1, 1, 1, 1, 1, 1, 1, 0], [1, 0, 1, 1, 1, 1, 1, 1, 1], [1, 0, 1, 1, 1, 1, 1, 1, 0], [0, 1, 0, 1, 1, 1, 1, 1, 1], [0, 0, 1, 1, 1, 1, 1, 1, 1], [1, 1, 1, 1, 1, 1, 1, 1, 1], [1, 0, 1, 1, 1, 1, 1, 1, 1], [1, 0, 1, 1, 1, 1, 1, 1, 1]]\n",
            "esta generación tiene un total de  5110  y el esperado es de  5110\n",
            "[[1, 1, 1, 1, 1, 1, 1, 1, 1], [1, 0, 1, 1, 1, 1, 0, 1, 1], [1, 1, 1, 1, 1, 1, 1, 1, 1], [1, 0, 1, 1, 1, 1, 1, 1, 1], [1, 0, 1, 1, 1, 1, 1, 1, 1], [1, 0, 1, 1, 1, 1, 1, 1, 1], [0, 1, 1, 1, 1, 1, 1, 1, 1], [1, 0, 1, 1, 1, 1, 1, 1, 1], [1, 0, 1, 1, 1, 1, 1, 1, 1], [1, 0, 1, 1, 1, 1, 1, 1, 1], [1, 1, 1, 1, 1, 1, 1, 1, 1]]\n",
            "esta generación tiene un total de  5110  y el esperado es de  5110\n",
            "[[1, 1, 1, 1, 1, 1, 1, 1, 1], [1, 1, 0, 1, 1, 1, 1, 1, 1], [1, 0, 1, 1, 1, 1, 1, 1, 1], [1, 1, 1, 1, 1, 1, 1, 1, 1], [1, 1, 1, 1, 1, 1, 1, 1, 1], [1, 1, 1, 1, 1, 1, 1, 1, 1], [1, 1, 1, 1, 1, 1, 1, 1, 1], [0, 1, 1, 1, 1, 1, 1, 1, 1], [1, 1, 1, 1, 1, 1, 1, 1, 1], [1, 0, 1, 1, 1, 1, 1, 1, 1], [1, 1, 1, 1, 1, 1, 1, 1, 1]]\n",
            "esta generación tiene un total de  5110  y el esperado es de  5110\n",
            "[[1, 1, 1, 1, 1, 1, 1, 1, 1], [1, 1, 1, 1, 1, 1, 1, 1, 1], [1, 1, 1, 1, 1, 1, 1, 1, 1], [1, 1, 1, 1, 1, 1, 1, 1, 1], [1, 1, 1, 1, 1, 1, 1, 1, 1], [1, 1, 1, 1, 1, 1, 1, 1, 1], [1, 1, 1, 1, 1, 1, 1, 1, 1], [1, 1, 1, 1, 1, 1, 1, 1, 1], [1, 1, 1, 1, 1, 1, 1, 1, 1], [1, 1, 1, 1, 1, 1, 1, 1, 1], [1, 1, 1, 1, 1, 1, 1, 1, 1]]\n"
          ]
        }
      ],
      "source": [
        "import random\n",
        "\n",
        "# Parámetros del algoritmo\n",
        "NUM_GENES = 9        # Número de cualidades por individuo\n",
        "POBLACION_SIZE = 10  # Tamaño de la población\n",
        "NUM_GENERACIONES = 100  # Número de generaciones a evolucionar\n",
        "PROB_CRUCE = 0.8     # Probabilidad de cruce entre dos individuos\n",
        "PROB_MUTACION = 0.1  # Probabilidad de mutación de un gen\n",
        "\n",
        "# Función de evaluación del individuo\n",
        "def evaluar_individuo(individuo):\n",
        "    # En este caso, la función de evaluación simplemente cuenta cuántos genes son iguales a 1\n",
        "    suma_aptitud = 0\n",
        "    for i, gen in enumerate(individuo):\n",
        "        if gen == 1:\n",
        "            suma_aptitud += 2**i\n",
        "            #if suma_aptitud > 511:\n",
        "              #suma_aptitud=511\n",
        "    return suma_aptitud\n",
        "    \n",
        "\n",
        "# Función de cruce entre dos individuos\n",
        "def cruce(individuo_1, individuo_2):\n",
        "    if random.random() < PROB_CRUCE:\n",
        "        punto_cruce = random.randint(1, NUM_GENES-1)\n",
        "        hijo_1 = individuo_1[:punto_cruce] + individuo_2[punto_cruce:]\n",
        "        hijo_2 = individuo_2[:punto_cruce] + individuo_1[punto_cruce:]\n",
        "        return hijo_1, hijo_2\n",
        "    else:\n",
        "        return individuo_1, individuo_2\n",
        "\n",
        "# Función de mutación de un gen\n",
        "def mutacion(individuo):\n",
        "    if random.random() < PROB_MUTACION:\n",
        "        gen = random.randint(0, NUM_GENES-1)\n",
        "        individuo[gen] = 1 - individuo[gen]\n",
        "\n",
        "# Función de selección de los individuos más aptos mediante torneo\n",
        "def seleccion_torneo(poblacion):\n",
        "    seleccionados = []\n",
        "    for i in range(2):\n",
        "        torneo = random.sample(poblacion, 3)\n",
        "        seleccionado = max(torneo, key=evaluar_individuo)\n",
        "        seleccionados.append(seleccionado)\n",
        "    return seleccionados\n",
        "\n",
        "def limitar_aptitud(poblacion):\n",
        "    sum_aptitud = 0\n",
        "    for individuo in poblacion:\n",
        "        sum_aptitud += evaluar_individuo(individuo)\n",
        "   # max_aptitud = len(poblacion[0]) * (2**len(poblacion[0])-1)\n",
        "    max_aptitud = 511 * POBLACION_SIZE\n",
        "    #if sum_aptitud> max_aptitud:\n",
        "      #sum_aptitud=max_aptitud\n",
        "    return sum_aptitud, max_aptitud\n",
        "\n",
        "def evaluar_poblacion(poblacion):\n",
        "    for individuo in poblacion:\n",
        "        if sum(individuo) != NUM_GENES:\n",
        "            return False\n",
        "    return True\n",
        "\n",
        "# Generación de la población inicial4\n",
        "poblacion = [[random.randint(0,1) for j in range(NUM_GENES)] for i in range(POBLACION_SIZE)]\n",
        "\n",
        "# Evolución de la población a lo largo de las generaciones\n",
        "for generacion in range(NUM_GENERACIONES):\n",
        "    nueva_poblacion = []\n",
        "    # Elitismo: se añade el mejor individuo de la población anterior a la nueva población\n",
        "    mejor_individuo = max(poblacion, key=evaluar_individuo)\n",
        "    nueva_poblacion.append(mejor_individuo)\n",
        "    # Selección, cruce y mutación de nuevos individuos para completar la nueva población\n",
        "    while len(nueva_poblacion) < POBLACION_SIZE:\n",
        "        padres = seleccion_torneo(poblacion)\n",
        "        hijo_1, hijo_2 = cruce(padres[0], padres[1])\n",
        "        mutacion(hijo_1)\n",
        "        mutacion(hijo_2)\n",
        "        nueva_poblacion.append(hijo_1)\n",
        "        nueva_poblacion.append(hijo_2)\n",
        "    poblacion = nueva_poblacion\n",
        "    evaluar_aptitud = limitar_aptitud(poblacion)\n",
        "    suma_aptitudes = evaluar_aptitud[0]\n",
        "    objetivo_aptitudes = evaluar_aptitud[1]\n",
        "    validar = evaluar_poblacion(poblacion)\n",
        "    \n",
        "    #if suma_aptitudes==objetivo_aptitudes:\n",
        "      #print(\"esta generación llego al objetivo tiene un total de \", suma_aptitudes,\" y el esperado es de \", objetivo_aptitudes)\n",
        "      #break\n",
        "    \n",
        "    print(\"esta generación tiene un total de \", suma_aptitudes,\" y el esperado es de \", objetivo_aptitudes) \n",
        "    print(poblacion) \n",
        "    if validar:\n",
        "      break\n",
        "      \n",
        "\n",
        "    #print(poblacion)\n",
        "\n",
        "\n"
      ]
    },
    {
      "cell_type": "markdown",
      "source": [
        "En el código, se define una serie de parámetros que controlan el comportamiento del algoritmo, como el tamaño de la población, el número de generaciones a evolucionar, la probabilidad de cruce y la probabilidad de mutación. Además, se define una función de evaluación que mide el \"fitness\" de cada individuo, es decir, qué tan bueno es para el problema que se está intentando resolver.\n",
        "\n",
        "La población se genera inicialmente de manera aleatoria, y en cada iteración del bucle principal (que representa cada generación), se realizan los siguientes pasos:\n",
        "\n",
        "\n",
        "\n",
        "*   Se seleccionan los dos individuos más aptos mediante torneo.\n",
        "*   Con cierta probabilidad, se realiza el cruce entre los dos individuos seleccionados para generar dos hijos.\n",
        "\n",
        "*   Con cierta probabilidad, se muta un gen de cada hijo.\n",
        "*   Se añaden los dos hijos a la nueva población.\n",
        "\n",
        "\n",
        "\n",
        "\n",
        "\n",
        "\n",
        "\n",
        "Además, se realiza un elitismo: se añade el mejor individuo de la población anterior a la nueva población, sin modificarlo.\n",
        "\n",
        "El proceso se repite hasta que se ha alcanzado el número de generaciones especificado. Al final, se devuelve el mejor individuo de toda la evolución, que se considera la solución óptima al problema.\n",
        "\n",
        "En resumen, este algoritmo genético utiliza la selección, el cruce y la mutación para explorar y explotar el espacio de soluciones, buscando encontrar la mejor solución posible a un problema."
      ],
      "metadata": {
        "id": "NFvxrp6YkWML"
      }
    },
    {
      "cell_type": "markdown",
      "source": [
        "El código proporcionado implementa un algoritmo evolutivo simple para optimizar una función de evaluación basada en una cadena binaria de longitud fija.\n",
        "\n",
        "La arquitectura del código consiste en varias funciones que realizan operaciones específicas:\n",
        "\n",
        "evaluar_individuo: esta función evalúa la aptitud de un individuo en función del número de genes que son iguales a 1.\n",
        "\n",
        "cruce: esta función realiza la operación de cruce entre dos individuos, lo que implica seleccionar un punto de corte aleatorio y combinar las partes correspondientes de cada padre para crear dos nuevos hijos.\n",
        "\n",
        "mutacion: esta función realiza la operación de mutación en un solo gen de un individuo, lo que implica invertir el valor del gen seleccionado de 0 a 1 o de 1 a 0.\n",
        "\n",
        "seleccion_torneo: esta función selecciona los individuos más aptos de la población mediante una operación de torneo, donde se eligen aleatoriamente tres individuos y se selecciona el mejor de ellos.\n",
        "\n",
        "limitar_aptitud: esta función verifica si la suma de las aptitudes de los individuos de la población supera un límite predefinido y, en caso afirmativo, la reduce al límite.\n",
        "\n",
        "evaluar_poblacion: esta función verifica si todos los individuos de la población tienen el número correcto de genes que son iguales a 1.\n",
        "Además, hay un bucle principal que evoluciona la población a lo largo de un número fijo de generaciones utilizando estas funciones. El bucle realiza las siguientes operaciones:\n",
        "\n",
        "Crea una población inicial aleatoria.\n",
        "\n",
        "Evalúa la aptitud de cada individuo en la población y selecciona el mejor individuo.\n",
        "\n",
        "Seleccione dos padres a través de una operación de torneo y realice la operación de cruce en ellos para crear dos nuevos hijos.\n",
        "\n",
        "Realiza una operación de mutación en cada uno de los nuevos hijos.\n",
        "\n",
        "Agrega los nuevos hijos a la población.\n",
        "\n",
        "Repite el proceso hasta que se hayan generado suficientes generaciones o se alcance un criterio de terminación predefinido.\n",
        "\n",
        "En resumen, la arquitectura de este código es la de un algoritmo evolutivo básico con operadores de selección, cruce y mutación, implementado en Python."
      ],
      "metadata": {
        "id": "SEsbIxmzGgWA"
      }
    },
    {
      "cell_type": "markdown",
      "source": [
        "Durante el desarrollo de este proyecto se presentaron varios problemas relacionados con el calculo de aptitudes y la delimitación maxima que puede tener una población, estos problemas surgieron debibo a que no se considero que la posicion de los bits hace que los valores cambien mucho, y al tener un tamaño poblacional especifico las combinaciones aumentaban más. Otro de los problemas surgio cuando tratabamos de encontrar la poblacion perfecta buscando la aptitud y controlar las iteraciones a través de este parametro, en vez de esto se empezo a validar a travéz del estado del gen, de esta manera se garantizaba la mayor aptitud de una población. "
      ],
      "metadata": {
        "id": "6rgWrZ_8Y_ij"
      }
    }
  ]
}